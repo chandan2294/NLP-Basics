{
  "nbformat": 4,
  "nbformat_minor": 0,
  "metadata": {
    "colab": {
      "name": "NLTK Basics",
      "provenance": [],
      "authorship_tag": "ABX9TyOZF7bJhRz+WJvRsawDORMu",
      "include_colab_link": true
    },
    "kernelspec": {
      "name": "python3",
      "display_name": "Python 3"
    }
  },
  "cells": [
    {
      "cell_type": "markdown",
      "metadata": {
        "id": "view-in-github",
        "colab_type": "text"
      },
      "source": [
        "<a href=\"https://colab.research.google.com/github/chandan2294/NLP-Basics/blob/master/NLTK_Basics.ipynb\" target=\"_parent\"><img src=\"https://colab.research.google.com/assets/colab-badge.svg\" alt=\"Open In Colab\"/></a>"
      ]
    },
    {
      "cell_type": "code",
      "metadata": {
        "id": "LQGfKaT_g1Y6",
        "colab_type": "code",
        "colab": {}
      },
      "source": [
        "import nltk"
      ],
      "execution_count": 0,
      "outputs": []
    },
    {
      "cell_type": "code",
      "metadata": {
        "id": "aiKmDv_nhUm6",
        "colab_type": "code",
        "colab": {}
      },
      "source": [
        "#nltk.download('all') #To download all data + packages\n",
        "\n",
        "from nltk.book import *"
      ],
      "execution_count": 0,
      "outputs": []
    },
    {
      "cell_type": "code",
      "metadata": {
        "id": "aLbSRdNqkUtE",
        "colab_type": "code",
        "outputId": "e414e0b6-d116-4715-e218-4913677ab5d9",
        "colab": {
          "base_uri": "https://localhost:8080/",
          "height": 170
        }
      },
      "source": [
        "texts()"
      ],
      "execution_count": 0,
      "outputs": [
        {
          "output_type": "stream",
          "text": [
            "text1: Moby Dick by Herman Melville 1851\n",
            "text2: Sense and Sensibility by Jane Austen 1811\n",
            "text3: The Book of Genesis\n",
            "text4: Inaugural Address Corpus\n",
            "text5: Chat Corpus\n",
            "text6: Monty Python and the Holy Grail\n",
            "text7: Wall Street Journal\n",
            "text8: Personals Corpus\n",
            "text9: The Man Who Was Thursday by G . K . Chesterton 1908\n"
          ],
          "name": "stdout"
        }
      ]
    },
    {
      "cell_type": "code",
      "metadata": {
        "id": "3C89c2Upjk63",
        "colab_type": "code",
        "outputId": "d3d74255-5101-45e3-bb77-7d4e7e9fd7d6",
        "colab": {
          "base_uri": "https://localhost:8080/",
          "height": 34
        }
      },
      "source": [
        "text1"
      ],
      "execution_count": 0,
      "outputs": [
        {
          "output_type": "execute_result",
          "data": {
            "text/plain": [
              "<Text: Moby Dick by Herman Melville 1851>"
            ]
          },
          "metadata": {
            "tags": []
          },
          "execution_count": 13
        }
      ]
    },
    {
      "cell_type": "code",
      "metadata": {
        "id": "SuUOn9xgkNLd",
        "colab_type": "code",
        "outputId": "17f15fe9-393c-4c85-d7de-c01c07554717",
        "colab": {
          "base_uri": "https://localhost:8080/",
          "height": 34
        }
      },
      "source": [
        "text2"
      ],
      "execution_count": 0,
      "outputs": [
        {
          "output_type": "execute_result",
          "data": {
            "text/plain": [
              "<Text: Sense and Sensibility by Jane Austen 1811>"
            ]
          },
          "metadata": {
            "tags": []
          },
          "execution_count": 14
        }
      ]
    },
    {
      "cell_type": "code",
      "metadata": {
        "id": "SFdY0Um2kXsD",
        "colab_type": "code",
        "outputId": "b972123e-2fb6-4347-d3a5-5609d7156c8e",
        "colab": {
          "base_uri": "https://localhost:8080/",
          "height": 190
        }
      },
      "source": [
        "sents()"
      ],
      "execution_count": 0,
      "outputs": [
        {
          "output_type": "stream",
          "text": [
            "sent1: Call me Ishmael .\n",
            "sent2: The family of Dashwood had long been settled in Sussex .\n",
            "sent3: In the beginning God created the heaven and the earth .\n",
            "sent4: Fellow - Citizens of the Senate and of the House of Representatives :\n",
            "sent5: I have a problem with people PMing me to lol JOIN\n",
            "sent6: SCENE 1 : [ wind ] [ clop clop clop ] KING ARTHUR : Whoa there !\n",
            "sent7: Pierre Vinken , 61 years old , will join the board as a nonexecutive director Nov. 29 .\n",
            "sent8: 25 SEXY MALE , seeks attrac older single lady , for discreet encounters .\n",
            "sent9: THE suburb of Saffron Park lay on the sunset side of London , as red and ragged as a cloud of sunset .\n"
          ],
          "name": "stdout"
        }
      ]
    },
    {
      "cell_type": "code",
      "metadata": {
        "id": "MDxfF4mckO3J",
        "colab_type": "code",
        "outputId": "e741516a-109c-4dc0-c6e2-a9ee0380f91f",
        "colab": {
          "base_uri": "https://localhost:8080/",
          "height": 34
        }
      },
      "source": [
        "sent1"
      ],
      "execution_count": 0,
      "outputs": [
        {
          "output_type": "execute_result",
          "data": {
            "text/plain": [
              "['Call', 'me', 'Ishmael', '.']"
            ]
          },
          "metadata": {
            "tags": []
          },
          "execution_count": 15
        }
      ]
    },
    {
      "cell_type": "code",
      "metadata": {
        "id": "egrun0WGkbq_",
        "colab_type": "code",
        "outputId": "102ff9fb-3985-4d6b-e98b-317c5fd9a1cd",
        "colab": {
          "base_uri": "https://localhost:8080/",
          "height": 34
        }
      },
      "source": [
        "print(text7, len(text7))"
      ],
      "execution_count": 0,
      "outputs": [
        {
          "output_type": "stream",
          "text": [
            "<Text: Wall Street Journal> 100676\n"
          ],
          "name": "stdout"
        }
      ]
    },
    {
      "cell_type": "code",
      "metadata": {
        "id": "eWUk-uUPkht4",
        "colab_type": "code",
        "outputId": "70b272ea-b22d-4878-ae9a-c5458c87154e",
        "colab": {
          "base_uri": "https://localhost:8080/",
          "height": 54
        }
      },
      "source": [
        "print(sent7, len(sent7))"
      ],
      "execution_count": 0,
      "outputs": [
        {
          "output_type": "stream",
          "text": [
            "['Pierre', 'Vinken', ',', '61', 'years', 'old', ',', 'will', 'join', 'the', 'board', 'as', 'a', 'nonexecutive', 'director', 'Nov.', '29', '.'] 18\n"
          ],
          "name": "stdout"
        }
      ]
    },
    {
      "cell_type": "code",
      "metadata": {
        "id": "win_GAedmJDL",
        "colab_type": "code",
        "outputId": "f6d87313-1e40-4f50-c344-9b8b9b68e677",
        "colab": {
          "base_uri": "https://localhost:8080/",
          "height": 187
        }
      },
      "source": [
        "list(set(text7))[:10]"
      ],
      "execution_count": 0,
      "outputs": [
        {
          "output_type": "execute_result",
          "data": {
            "text/plain": [
              "['producers',\n",
              " '45.3',\n",
              " 'Sprint',\n",
              " 'Elco',\n",
              " 'Wednesday',\n",
              " 'mechanisms',\n",
              " \"O'Neill\",\n",
              " 'bureaucratic',\n",
              " 'Factory',\n",
              " 'Sanderoff']"
            ]
          },
          "metadata": {
            "tags": []
          },
          "execution_count": 21
        }
      ]
    },
    {
      "cell_type": "code",
      "metadata": {
        "id": "avtfFgs_mWUg",
        "colab_type": "code",
        "outputId": "e9d50f6c-225b-4918-8fdf-dced25e76d3f",
        "colab": {
          "base_uri": "https://localhost:8080/",
          "height": 1000
        }
      },
      "source": [
        "set(text7)"
      ],
      "execution_count": 0,
      "outputs": [
        {
          "output_type": "execute_result",
          "data": {
            "text/plain": [
              "{'producers',\n",
              " '45.3',\n",
              " 'Sprint',\n",
              " 'Elco',\n",
              " 'Wednesday',\n",
              " 'mechanisms',\n",
              " \"O'Neill\",\n",
              " 'bureaucratic',\n",
              " 'Factory',\n",
              " 'Sanderoff',\n",
              " 'Reagan',\n",
              " 'tumultuous',\n",
              " 'centimeter',\n",
              " 'panic',\n",
              " 'suffering',\n",
              " 'movements',\n",
              " 'technique',\n",
              " 'Lids',\n",
              " '2029',\n",
              " '185.9',\n",
              " 'lyrics',\n",
              " 'repaid',\n",
              " 'region',\n",
              " 'Lumpur',\n",
              " 'several-year',\n",
              " 'banned',\n",
              " 'Act',\n",
              " 'redeploy',\n",
              " 'reporting',\n",
              " 'Judie',\n",
              " 'echoed',\n",
              " 'sell',\n",
              " 'nutrition',\n",
              " '6,000',\n",
              " '230-215',\n",
              " 'Jaguar',\n",
              " 'picket',\n",
              " 'Board',\n",
              " 'medium-sized',\n",
              " 'discretion',\n",
              " 'machinists',\n",
              " 'one-yen',\n",
              " 'corridors',\n",
              " 'Marubeni',\n",
              " 'Publishers',\n",
              " 'liquidation',\n",
              " 'grand',\n",
              " 'computer-system-design',\n",
              " 'retard',\n",
              " 'Ravenswood',\n",
              " 'adjustable',\n",
              " 'news',\n",
              " '*T*-129',\n",
              " 'presumes',\n",
              " '1614',\n",
              " 'While',\n",
              " 'additional',\n",
              " '306',\n",
              " 'elaborate',\n",
              " '81.8',\n",
              " 'loans',\n",
              " 'moving',\n",
              " 'futures-related',\n",
              " '3.8',\n",
              " 'continued',\n",
              " 'movie',\n",
              " 'physics',\n",
              " 'Workers',\n",
              " 'amps',\n",
              " 'stadium',\n",
              " '71,309',\n",
              " 'demands',\n",
              " 'kit',\n",
              " 'Strindberg',\n",
              " 'acquires',\n",
              " 'maturity',\n",
              " 'merge',\n",
              " 'mired',\n",
              " 'cups',\n",
              " 'continues',\n",
              " 'greedy',\n",
              " 'violate',\n",
              " 'coordinate',\n",
              " 'EST',\n",
              " 'Southern',\n",
              " '*T*-61',\n",
              " 'Roederer',\n",
              " 'relations',\n",
              " 'preface',\n",
              " 'control',\n",
              " 'concerned',\n",
              " 'disaffiliation',\n",
              " 'skipped',\n",
              " 'varied',\n",
              " 'urging',\n",
              " 'They',\n",
              " 'operating',\n",
              " 'Richebourg',\n",
              " 'Cole',\n",
              " 'attacking',\n",
              " 'gunship',\n",
              " 'ability',\n",
              " 'affect',\n",
              " 'Common',\n",
              " 'intentioned',\n",
              " 'incentives',\n",
              " 'Delaware',\n",
              " 'grew',\n",
              " 'CERTIFICATES',\n",
              " 'sufficiently',\n",
              " 'revival',\n",
              " 'speculators',\n",
              " 'Ltd.',\n",
              " 'Farmers',\n",
              " 'Pick',\n",
              " 'Atlantic',\n",
              " 'banker',\n",
              " '54-year-old',\n",
              " 'provoked',\n",
              " 'conversations',\n",
              " 'placement',\n",
              " 'suppression',\n",
              " 'Leo',\n",
              " 'someone',\n",
              " 'tell',\n",
              " 'unanimous',\n",
              " '*T*-173',\n",
              " 'finest',\n",
              " 'THAT',\n",
              " 'Freshbake',\n",
              " 'soaring',\n",
              " 'Mrs',\n",
              " 'Paramount',\n",
              " 'Warehouse',\n",
              " 'disagreement',\n",
              " 'relieve',\n",
              " 'nonetheless',\n",
              " 'penalties',\n",
              " 'sheepskin',\n",
              " 'kidnapping',\n",
              " 'controlling',\n",
              " 'Temple',\n",
              " 'Porter',\n",
              " 'certainly',\n",
              " 'ministry',\n",
              " 'quoted',\n",
              " 'naming',\n",
              " 'directed',\n",
              " 'County',\n",
              " 'weak',\n",
              " '*T*-206',\n",
              " 'producer',\n",
              " 'judges',\n",
              " 'Michaels',\n",
              " 'smiles',\n",
              " 'Estimated',\n",
              " 'Hiroshima',\n",
              " 'repriced',\n",
              " 'theological',\n",
              " 'recession',\n",
              " 'apparent',\n",
              " 'President',\n",
              " 'Civil',\n",
              " 'Obligations',\n",
              " 'row',\n",
              " 'inevitable',\n",
              " 'homelessness',\n",
              " '*-149',\n",
              " 'Rieslings',\n",
              " 'framework',\n",
              " 'propelling',\n",
              " 'whichever',\n",
              " 'Mutchin',\n",
              " 'fighters',\n",
              " 'sabotage',\n",
              " 'schedule',\n",
              " 'lure',\n",
              " 'influential',\n",
              " 'upside',\n",
              " 'months',\n",
              " 'divergence',\n",
              " 'Ratner',\n",
              " '*T*-89',\n",
              " 'second-largest',\n",
              " 'priciest',\n",
              " 'transcribe',\n",
              " 'Chadha',\n",
              " 'plot',\n",
              " 'operated',\n",
              " 'faculty',\n",
              " 'photocopying',\n",
              " '343',\n",
              " 'Ramirez',\n",
              " 'parched',\n",
              " 'Card',\n",
              " 'firms',\n",
              " 'treatment',\n",
              " 'describes',\n",
              " 'stare',\n",
              " 'edition',\n",
              " '377.60',\n",
              " 'consomme',\n",
              " 'Shaw',\n",
              " 'lease',\n",
              " 'principals',\n",
              " 'directionless',\n",
              " 'funny',\n",
              " '361,376',\n",
              " 'pretax',\n",
              " 'Tache',\n",
              " 'photograph',\n",
              " '5.9',\n",
              " 'blood',\n",
              " 'clear',\n",
              " '300-a-share',\n",
              " '*-86',\n",
              " 'INGERSOLL-RAND',\n",
              " 'think',\n",
              " 'rivals',\n",
              " '449.04',\n",
              " 'periodontal',\n",
              " 'Mickey',\n",
              " 'Braun',\n",
              " 'stock-selection',\n",
              " 'TRIAL',\n",
              " 'borrowing',\n",
              " '415.6',\n",
              " 'studying',\n",
              " 'Chardonnay',\n",
              " 'subscribe',\n",
              " 'Woodcliff',\n",
              " '*-127',\n",
              " 'portions',\n",
              " 'microphone',\n",
              " 'results',\n",
              " 'merged',\n",
              " 'reviewing',\n",
              " 'recruiting',\n",
              " 'rape',\n",
              " 'withhold',\n",
              " 'public',\n",
              " 'Systems',\n",
              " 'Dow',\n",
              " 'acne',\n",
              " 'Yasser',\n",
              " 'weigh',\n",
              " 'ballots',\n",
              " 'tote',\n",
              " 'profit',\n",
              " 'Amendment',\n",
              " '191.9',\n",
              " '9.3',\n",
              " 'unless',\n",
              " 'hole',\n",
              " 'creature',\n",
              " 'checkbook',\n",
              " 'Simmons',\n",
              " 'municipality',\n",
              " 'Jeremy',\n",
              " 'Homebrew',\n",
              " 'trader',\n",
              " 'Manila',\n",
              " 'successor',\n",
              " 'generation',\n",
              " 'buckle',\n",
              " 'measurement',\n",
              " 'implant',\n",
              " 'sub-markets',\n",
              " 'girl',\n",
              " '37-year-old',\n",
              " 'VanSant',\n",
              " 'motor-home',\n",
              " 'I.',\n",
              " 'reserve',\n",
              " 'shared',\n",
              " 'WTVJ',\n",
              " 'travel',\n",
              " 'TWO',\n",
              " 'well-connected',\n",
              " 'loose',\n",
              " 'looks',\n",
              " '3.625',\n",
              " 'lot',\n",
              " 'Mich.',\n",
              " 'Gillespie',\n",
              " 'Like',\n",
              " 'Mindy',\n",
              " 'head',\n",
              " 'counseling',\n",
              " 'heated',\n",
              " 'Perch',\n",
              " 'complaint',\n",
              " 'version',\n",
              " 'physicist',\n",
              " 'Hoylake',\n",
              " 'Missouri',\n",
              " 'labor-backed',\n",
              " 'overruns',\n",
              " 'Taylor',\n",
              " 'schools',\n",
              " 'playgrounds',\n",
              " 'facilities',\n",
              " 'father',\n",
              " 'acknowledge',\n",
              " 'readership',\n",
              " 'sociology',\n",
              " 'executive-office',\n",
              " 'ratified',\n",
              " 'lasting',\n",
              " 'Kong',\n",
              " 'POTABLES',\n",
              " 'blender',\n",
              " 'trains',\n",
              " 'genie',\n",
              " 'Barge',\n",
              " 'hard',\n",
              " 'breakfast',\n",
              " 'flat',\n",
              " 'Professional',\n",
              " 'intervention',\n",
              " '6.9',\n",
              " 'hither',\n",
              " 'del',\n",
              " 'Joel',\n",
              " 'Lights',\n",
              " 'burlap',\n",
              " '...',\n",
              " '15,000',\n",
              " 'avoid',\n",
              " '1925',\n",
              " 'spokewoman',\n",
              " 'Rubinfien',\n",
              " 'hardware',\n",
              " 'rebuked',\n",
              " 'cleanup',\n",
              " 'Wild',\n",
              " '*-35',\n",
              " 'opportunity',\n",
              " 'Tray',\n",
              " 'cross-border',\n",
              " 'longer-term',\n",
              " 'Nasty',\n",
              " 'prestige',\n",
              " 'cards',\n",
              " 'Earlham',\n",
              " 'auditor',\n",
              " 'denies',\n",
              " 'returns',\n",
              " 'computer-assisted',\n",
              " '13.90',\n",
              " 'dominates',\n",
              " 'avoiding',\n",
              " 'computer-generated',\n",
              " 'high-minded',\n",
              " 'Acquisition',\n",
              " 'causing',\n",
              " '7',\n",
              " 'successfully',\n",
              " 'conceding',\n",
              " '*T*-32',\n",
              " 'dubbed',\n",
              " '858,000',\n",
              " 'AND',\n",
              " 'college',\n",
              " '454',\n",
              " '79',\n",
              " '*T*-112',\n",
              " 'considered',\n",
              " 'May',\n",
              " 'alcohol',\n",
              " 'incentive-bonus',\n",
              " 'Instead',\n",
              " 'arbitrage',\n",
              " 'faces',\n",
              " '2.375',\n",
              " 'scrupulously',\n",
              " '1953',\n",
              " 'explore',\n",
              " 'folks',\n",
              " 'giving',\n",
              " 'Maine',\n",
              " 'Totally',\n",
              " '280',\n",
              " 'Mitsubishi',\n",
              " '1989',\n",
              " 'audience',\n",
              " '3.2',\n",
              " 'fortunes',\n",
              " 'fattened',\n",
              " '*T*-144',\n",
              " '210,000',\n",
              " 'clearer',\n",
              " 'succeeds',\n",
              " 'extramarital',\n",
              " 'implied',\n",
              " '3.9',\n",
              " 'D.C.',\n",
              " 'Tulane',\n",
              " 'counts',\n",
              " 'auctioned',\n",
              " 'inviting',\n",
              " 'delivering',\n",
              " 'gaining',\n",
              " 'doubts',\n",
              " 'theory',\n",
              " '13.15',\n",
              " 'parallels',\n",
              " 'Traditionally',\n",
              " 'reached',\n",
              " '1992-1999',\n",
              " 'emerge',\n",
              " 'offering',\n",
              " 'triple-C',\n",
              " 'Economists',\n",
              " 'recipient',\n",
              " 'permitted',\n",
              " 'Ana',\n",
              " 'always',\n",
              " 'behaving',\n",
              " 'Chilean',\n",
              " 'burn',\n",
              " '*T*-31',\n",
              " 'denounce',\n",
              " 'observed',\n",
              " 'solely',\n",
              " 'resulted',\n",
              " 'System',\n",
              " 'family',\n",
              " 'Underwoods',\n",
              " 'managements',\n",
              " 'meets',\n",
              " 'Champion',\n",
              " 'shrug',\n",
              " 'movies',\n",
              " 'Queen',\n",
              " 'Seoul',\n",
              " 'Circulation',\n",
              " 'dissident',\n",
              " '3.01',\n",
              " 'authorities',\n",
              " 'Judicial',\n",
              " 'oldest',\n",
              " 'strong',\n",
              " '98',\n",
              " 'concession',\n",
              " 'employers',\n",
              " 'manpower',\n",
              " '2,099',\n",
              " 'Domaine',\n",
              " 'removing',\n",
              " 'deplorable',\n",
              " 'G',\n",
              " 'profit-taking',\n",
              " 'dominated',\n",
              " 'Marchese',\n",
              " 'inventory',\n",
              " 'Ailes',\n",
              " 'inspirational',\n",
              " 'World-Wide',\n",
              " 'enthusiasm',\n",
              " '*T*-72',\n",
              " 'sweetened',\n",
              " 'execs',\n",
              " 'pour',\n",
              " '340,000',\n",
              " 'appeal',\n",
              " 'Chaplin',\n",
              " 'shipped',\n",
              " 'premium',\n",
              " 'Duchossois',\n",
              " '1.61',\n",
              " 'own',\n",
              " 'yielding',\n",
              " 'Brownstein',\n",
              " 'returning',\n",
              " 'interstate',\n",
              " 'floors',\n",
              " 'crying',\n",
              " 'individual',\n",
              " 'junk-bond',\n",
              " 'Jonas',\n",
              " 'curses',\n",
              " 'holidays',\n",
              " 'mail',\n",
              " 'negotiator',\n",
              " 'Carbide',\n",
              " 'passport',\n",
              " 'overall',\n",
              " 'computer-services',\n",
              " '811.9',\n",
              " '116.7',\n",
              " 'dessert',\n",
              " 'appropriations',\n",
              " 'acknowledges',\n",
              " 'produced',\n",
              " 'Representative',\n",
              " 'default',\n",
              " 'peaks',\n",
              " 'Kentucky',\n",
              " 'despite',\n",
              " 'science',\n",
              " 'inquiring',\n",
              " 'exclusively',\n",
              " 'pace',\n",
              " 'Hans',\n",
              " 'distribution',\n",
              " 'Pickens',\n",
              " 'Associates',\n",
              " 'U.S.-backed',\n",
              " 'evenly',\n",
              " 'grower',\n",
              " 'Einhorn',\n",
              " 'cells',\n",
              " 'liquid-nitrogen',\n",
              " 'examine',\n",
              " 'Private',\n",
              " '*T*-103',\n",
              " 'fashion',\n",
              " 'invite',\n",
              " 'Similar',\n",
              " 'Beijing',\n",
              " 'negotiate',\n",
              " '27',\n",
              " 'boy',\n",
              " 'Marie',\n",
              " 'co-author',\n",
              " 'Dunkin',\n",
              " 'consecutive',\n",
              " 'rings',\n",
              " 'education',\n",
              " 'Patricia',\n",
              " 'Institutes',\n",
              " 'narrowly',\n",
              " 'protracted',\n",
              " 'purposes',\n",
              " 'colder',\n",
              " 'polyester',\n",
              " 'Tuscany',\n",
              " 'Edward',\n",
              " 'Indeed',\n",
              " 'stood',\n",
              " 'theaters',\n",
              " 'pact',\n",
              " '1.457',\n",
              " 'pins',\n",
              " 'Silverman',\n",
              " 'onto',\n",
              " 'same',\n",
              " 'inherent',\n",
              " 'Seattle',\n",
              " 'six-packs',\n",
              " '8.15',\n",
              " 'wrecking',\n",
              " 'Plans',\n",
              " 'achieved',\n",
              " 'Speculation',\n",
              " '@',\n",
              " 'Cambridge',\n",
              " 'ranked',\n",
              " 'observance',\n",
              " 'environmental',\n",
              " 'Gerard',\n",
              " 'anti-morning-sickness',\n",
              " 'Heritage',\n",
              " 'Island',\n",
              " 'Junk-bond',\n",
              " 'literature',\n",
              " 'congressmen',\n",
              " 'complexes',\n",
              " 'intraocular',\n",
              " 'reallocated',\n",
              " 'managed',\n",
              " 'Barbaresco',\n",
              " 'limits',\n",
              " 'predictable',\n",
              " '*-42',\n",
              " 'Rolling',\n",
              " 'worries',\n",
              " 'persistent',\n",
              " 'however',\n",
              " 'lofty',\n",
              " 'recalling',\n",
              " 'disciplinary',\n",
              " 'princely',\n",
              " 'Russo',\n",
              " 'dilemma',\n",
              " 'Scientists',\n",
              " '1.9',\n",
              " 'mistake',\n",
              " 'mechanically',\n",
              " 'Typically',\n",
              " 'occurred',\n",
              " 'presidential',\n",
              " 'arsenide',\n",
              " '14-hour',\n",
              " 'interest',\n",
              " 'releases',\n",
              " 'eyes',\n",
              " 'all',\n",
              " '2.75',\n",
              " 'attorney',\n",
              " 'one-time',\n",
              " 'integrated',\n",
              " 'badly',\n",
              " 'DyDee',\n",
              " 'assembly',\n",
              " 'unfunded',\n",
              " 'gauge',\n",
              " 'Turkey',\n",
              " 'subindustry',\n",
              " 'FALL',\n",
              " 'FIRST',\n",
              " '6\\\\/2',\n",
              " 'Goldman',\n",
              " 'Arnold',\n",
              " '143.80',\n",
              " 'typically',\n",
              " 'if',\n",
              " 'agents',\n",
              " 'cane',\n",
              " 'Light',\n",
              " 'importance',\n",
              " 'minimum-wage',\n",
              " 'stemming',\n",
              " '7.62',\n",
              " 'NEC',\n",
              " 'seven-year',\n",
              " 'officials',\n",
              " 'COPPER',\n",
              " 'Commonwealth',\n",
              " 'finance',\n",
              " 'commission',\n",
              " 'depended',\n",
              " 'kinds',\n",
              " 'evolved',\n",
              " '2019',\n",
              " 'Nemeth',\n",
              " 'three-month',\n",
              " 'Mehta',\n",
              " 'understanding',\n",
              " 'year',\n",
              " 'stronger',\n",
              " 'administrators',\n",
              " 'nose',\n",
              " 'winter',\n",
              " 'narrowed',\n",
              " 'two-tiered',\n",
              " 'expendable',\n",
              " 'Schaefer',\n",
              " 'tower',\n",
              " 'Bar',\n",
              " 'Learning',\n",
              " 'covered',\n",
              " 'exceptional',\n",
              " 'Payouts',\n",
              " 'automated',\n",
              " 'toll',\n",
              " 'they',\n",
              " 'participate',\n",
              " 'Kobe',\n",
              " 'reservoirs',\n",
              " 'Wayland',\n",
              " 'Yale',\n",
              " '10',\n",
              " 'monopolize',\n",
              " 'District',\n",
              " 'Ichiro',\n",
              " 'emotions',\n",
              " 'collective',\n",
              " 'Raton',\n",
              " 'denying',\n",
              " 'letter',\n",
              " 'evoking',\n",
              " 'protect',\n",
              " '6.5',\n",
              " 'pattern',\n",
              " 'quarters',\n",
              " 'Britain',\n",
              " '20',\n",
              " 'Bureau',\n",
              " 'scrounge',\n",
              " 'Davies',\n",
              " 'comfortable',\n",
              " 'text',\n",
              " 'occurs',\n",
              " '1',\n",
              " 'Convention',\n",
              " 'bundles',\n",
              " 'serviced',\n",
              " 'Group',\n",
              " '1996',\n",
              " 'pilots',\n",
              " 'called',\n",
              " 'could',\n",
              " 'worst',\n",
              " 'mistakes',\n",
              " '3.16',\n",
              " 'discovered',\n",
              " 'Syndicate',\n",
              " 'peak',\n",
              " 'plays',\n",
              " 'procedures',\n",
              " 'Cerf',\n",
              " 'spun',\n",
              " 'sink',\n",
              " 'Hammerton',\n",
              " '388',\n",
              " '35.7',\n",
              " 'unjustified',\n",
              " '0.7',\n",
              " 'blue-collar',\n",
              " 'Dell',\n",
              " 'skyrocketed',\n",
              " 'professional',\n",
              " 'Similarly',\n",
              " '9.9',\n",
              " 'accompany',\n",
              " 'tilt',\n",
              " 'protections',\n",
              " 'tobacco',\n",
              " 'credentials',\n",
              " 'Westborough',\n",
              " 'cheerleading',\n",
              " 'Cab',\n",
              " 'generate',\n",
              " 'condemned',\n",
              " 'normal',\n",
              " 'automobile',\n",
              " '3.23',\n",
              " 'sacked',\n",
              " 'drew',\n",
              " 'People',\n",
              " 'initial',\n",
              " 'merchant',\n",
              " 'finding',\n",
              " 'warehousing',\n",
              " 'puzzled',\n",
              " '38.5',\n",
              " 'earned',\n",
              " 'shortage',\n",
              " 'midnight',\n",
              " 'programming',\n",
              " 'consented',\n",
              " 'Ridgefield',\n",
              " 'Soups',\n",
              " 'per',\n",
              " 'town',\n",
              " 'heartland',\n",
              " 'Markey',\n",
              " 'wine-buying',\n",
              " 'Equity',\n",
              " 'smattering',\n",
              " 'provisions',\n",
              " 'resolution',\n",
              " 'worker',\n",
              " 'condemning',\n",
              " 'jumped',\n",
              " 'build',\n",
              " 'history',\n",
              " '2.15',\n",
              " 'polarized',\n",
              " 'addressing',\n",
              " 'or',\n",
              " 'unstinting',\n",
              " 'specializes',\n",
              " 'Henry',\n",
              " 'bloc',\n",
              " 'Monitor',\n",
              " 'ultimate',\n",
              " 'Labouisse',\n",
              " 'Soup',\n",
              " 'ticket',\n",
              " 'rapport',\n",
              " 'excess',\n",
              " 'recess',\n",
              " '*-13',\n",
              " 'begun',\n",
              " 'Mead',\n",
              " '150-point',\n",
              " 'Asians',\n",
              " 'athletic',\n",
              " 'Generalized',\n",
              " 'salaries',\n",
              " 'Democrats',\n",
              " 'lights',\n",
              " 'surreptitiously',\n",
              " 'designed',\n",
              " 'rejected',\n",
              " 'schemes',\n",
              " 'affair',\n",
              " 'ABORTION',\n",
              " 'card',\n",
              " 'Pierre',\n",
              " 'states',\n",
              " 'justifying',\n",
              " 'capital',\n",
              " 'feudal',\n",
              " '90-day',\n",
              " 'rendering',\n",
              " 'Shores',\n",
              " 'forgiven',\n",
              " 'industries',\n",
              " '11.72',\n",
              " 'friend',\n",
              " 'price-depressing',\n",
              " 'third-quarter',\n",
              " '*-133',\n",
              " 'shrank',\n",
              " '*T*-238',\n",
              " 'specify',\n",
              " 'hormone',\n",
              " 'side-crash',\n",
              " 'hero',\n",
              " '88.32',\n",
              " 'refuses',\n",
              " 'uttering',\n",
              " 'interjects',\n",
              " 'appealing',\n",
              " 'prying',\n",
              " 'decorator',\n",
              " 'predict',\n",
              " 'rebels',\n",
              " 'Interleukin-3',\n",
              " 'muster',\n",
              " 'wooing',\n",
              " 'Oh',\n",
              " 'justice',\n",
              " 'turning',\n",
              " 'Salon',\n",
              " 'Glendale',\n",
              " 'rebuilding',\n",
              " 'vowed',\n",
              " 'strapped',\n",
              " 'Preferences',\n",
              " 'promotional',\n",
              " 'sagged',\n",
              " 'deadwood',\n",
              " 'OTC',\n",
              " '*T*-174',\n",
              " 'Midvale',\n",
              " 'projects',\n",
              " 'Traditional',\n",
              " '1.17',\n",
              " 'economy',\n",
              " 'crashes',\n",
              " 'Commissions',\n",
              " 'concentrate',\n",
              " '*T*-198',\n",
              " 'screened',\n",
              " 'Bretz',\n",
              " 'Junk',\n",
              " 'punitive',\n",
              " 'seasoned',\n",
              " 'Roger',\n",
              " 'critical',\n",
              " 'concentration',\n",
              " 'scandals',\n",
              " 'energetic',\n",
              " 'myriad',\n",
              " 'Transamerica',\n",
              " 'jitters',\n",
              " '*-142',\n",
              " 'roll',\n",
              " 'proposal',\n",
              " 'Superconductors',\n",
              " '58-year-old',\n",
              " 'accomplishments',\n",
              " 'disposables',\n",
              " 'You',\n",
              " 'entitled',\n",
              " 'Nixon',\n",
              " 'NBC-owned',\n",
              " 'got',\n",
              " 'Revenue',\n",
              " 'Traders',\n",
              " 'anti-China',\n",
              " 'insane',\n",
              " 'Ind.',\n",
              " 'Indexing',\n",
              " 'Vitulli',\n",
              " 'wrongdoing',\n",
              " 'GRAINS',\n",
              " '*T*-172',\n",
              " 'overdone',\n",
              " 'expense',\n",
              " 'administrator',\n",
              " '7.422',\n",
              " 'acquiring',\n",
              " 'Gelles',\n",
              " 'leather',\n",
              " 'copying',\n",
              " '705.6',\n",
              " 'Communications',\n",
              " '750,000',\n",
              " '*T*-45',\n",
              " 'lasted',\n",
              " 'Fla.',\n",
              " 'loathsome',\n",
              " 'Materials',\n",
              " 'silver',\n",
              " 'logic',\n",
              " 'author',\n",
              " 'doctors',\n",
              " 'crunch',\n",
              " 'expands',\n",
              " 'Taurus',\n",
              " 'deposit',\n",
              " 'Saudi',\n",
              " 'Youths',\n",
              " 'chocolate',\n",
              " 'instead',\n",
              " 'prefectural',\n",
              " 'Norwest',\n",
              " 'judged',\n",
              " 'gloss',\n",
              " 'takings',\n",
              " 'Danville',\n",
              " 'tort',\n",
              " 'oilman',\n",
              " 'Minnesota',\n",
              " 'revolt',\n",
              " 'meant',\n",
              " 'colored',\n",
              " 'visit',\n",
              " '282',\n",
              " 'Basic',\n",
              " 'giants',\n",
              " 'short-wave',\n",
              " 'Palestinian',\n",
              " 'Against',\n",
              " '238,000-circulation',\n",
              " 'choosing',\n",
              " 'sunlight',\n",
              " 'An',\n",
              " 'Norwegian',\n",
              " 'scale',\n",
              " 'liberty',\n",
              " 'whipsaw',\n",
              " 'Owner',\n",
              " 'foreign-stock',\n",
              " 'City',\n",
              " 'Fountain',\n",
              " 'Campbell',\n",
              " '*-97',\n",
              " 'Aug.',\n",
              " 'Nearby',\n",
              " '28.53',\n",
              " 'Broadcasting',\n",
              " 'authors',\n",
              " 'chassis',\n",
              " 'stock-market',\n",
              " 'farmers',\n",
              " 'Jacobs',\n",
              " 'bakery',\n",
              " 'poured',\n",
              " 'humble',\n",
              " 'Investors',\n",
              " 'slashing',\n",
              " 'fingers',\n",
              " 'forced',\n",
              " 'wanting',\n",
              " 'textile',\n",
              " 'oversee',\n",
              " 'file',\n",
              " 'successful',\n",
              " 'year-end',\n",
              " 'marching',\n",
              " 'harms',\n",
              " '190',\n",
              " 'defects',\n",
              " 'half-hour',\n",
              " 'encroaching',\n",
              " 'sight',\n",
              " 'patterns',\n",
              " 'bad',\n",
              " '422.5',\n",
              " 'asks',\n",
              " 'Combo',\n",
              " 'dispute',\n",
              " 'Rapanelli',\n",
              " 'Angola',\n",
              " 'cement',\n",
              " 'collar',\n",
              " '133.7',\n",
              " 'just',\n",
              " 'gut',\n",
              " '0.3',\n",
              " 'landfill',\n",
              " 'obviously',\n",
              " 'Scott',\n",
              " 'USX',\n",
              " 'INTERBANK',\n",
              " 'Biondi-Santi',\n",
              " 'drinks',\n",
              " '*-31',\n",
              " 'Environment',\n",
              " 'sanctions',\n",
              " 'Use',\n",
              " 'mode',\n",
              " 'unjust',\n",
              " ...}"
            ]
          },
          "metadata": {
            "tags": []
          },
          "execution_count": 22
        }
      ]
    },
    {
      "cell_type": "code",
      "metadata": {
        "id": "yOX_85nNmoVY",
        "colab_type": "code",
        "outputId": "08d04634-81d0-491d-c0c9-71e71d4d4c80",
        "colab": {
          "base_uri": "https://localhost:8080/",
          "height": 34
        }
      },
      "source": [
        "#Frequency of words\n",
        "dist = FreqDist(sent4)\n",
        "len(dist)"
      ],
      "execution_count": 0,
      "outputs": [
        {
          "output_type": "execute_result",
          "data": {
            "text/plain": [
              "10"
            ]
          },
          "metadata": {
            "tags": []
          },
          "execution_count": 23
        }
      ]
    },
    {
      "cell_type": "code",
      "metadata": {
        "id": "uc0fyTFAm-A3",
        "colab_type": "code",
        "outputId": "c3ce8d96-6fe9-48a6-9588-c5064764d12d",
        "colab": {
          "base_uri": "https://localhost:8080/",
          "height": 187
        }
      },
      "source": [
        "dist"
      ],
      "execution_count": 0,
      "outputs": [
        {
          "output_type": "execute_result",
          "data": {
            "text/plain": [
              "FreqDist({'-': 1,\n",
              "          ':': 1,\n",
              "          'Citizens': 1,\n",
              "          'Fellow': 1,\n",
              "          'House': 1,\n",
              "          'Representatives': 1,\n",
              "          'Senate': 1,\n",
              "          'and': 1,\n",
              "          'of': 3,\n",
              "          'the': 2})"
            ]
          },
          "metadata": {
            "tags": []
          },
          "execution_count": 24
        }
      ]
    },
    {
      "cell_type": "code",
      "metadata": {
        "id": "2TtKMawCnDVi",
        "colab_type": "code",
        "outputId": "52d33bce-8399-47c4-c513-8f37423c6999",
        "colab": {
          "base_uri": "https://localhost:8080/",
          "height": 34
        }
      },
      "source": [
        "dist = FreqDist(text7)\n",
        "len(dist)"
      ],
      "execution_count": 0,
      "outputs": [
        {
          "output_type": "execute_result",
          "data": {
            "text/plain": [
              "12408"
            ]
          },
          "metadata": {
            "tags": []
          },
          "execution_count": 36
        }
      ]
    },
    {
      "cell_type": "code",
      "metadata": {
        "id": "15Vvaoe9nKaJ",
        "colab_type": "code",
        "outputId": "7cb00446-045a-4582-9f7c-29ed0e3613e6",
        "colab": {
          "base_uri": "https://localhost:8080/",
          "height": 34
        }
      },
      "source": [
        "vocab1 = list(dist.keys())\n",
        "vocab1[:10]"
      ],
      "execution_count": 0,
      "outputs": [
        {
          "output_type": "execute_result",
          "data": {
            "text/plain": [
              "['Pierre', 'Vinken', ',', '61', 'years', 'old', 'will', 'join', 'the', 'board']"
            ]
          },
          "metadata": {
            "tags": []
          },
          "execution_count": 41
        }
      ]
    },
    {
      "cell_type": "code",
      "metadata": {
        "id": "CqmzGI9mnnul",
        "colab_type": "code",
        "outputId": "cbf43262-6cc3-4481-9ad0-813cd147e4f4",
        "colab": {
          "base_uri": "https://localhost:8080/",
          "height": 34
        }
      },
      "source": [
        "vocab1[0]"
      ],
      "execution_count": 0,
      "outputs": [
        {
          "output_type": "execute_result",
          "data": {
            "text/plain": [
              "'Pierre'"
            ]
          },
          "metadata": {
            "tags": []
          },
          "execution_count": 42
        }
      ]
    },
    {
      "cell_type": "code",
      "metadata": {
        "id": "9VdQZcCBnmEp",
        "colab_type": "code",
        "outputId": "3e860a9b-6422-44b9-e90b-9c6a8d0ea493",
        "colab": {
          "base_uri": "https://localhost:8080/",
          "height": 34
        }
      },
      "source": [
        "dist['problem']"
      ],
      "execution_count": 0,
      "outputs": [
        {
          "output_type": "execute_result",
          "data": {
            "text/plain": [
              "30"
            ]
          },
          "metadata": {
            "tags": []
          },
          "execution_count": 43
        }
      ]
    },
    {
      "cell_type": "code",
      "metadata": {
        "id": "ZVgrpJxjn6O3",
        "colab_type": "code",
        "outputId": "92dea957-c78b-4aed-ba91-d07b5641720b",
        "colab": {
          "base_uri": "https://localhost:8080/",
          "height": 34
        }
      },
      "source": [
        "dist['with']"
      ],
      "execution_count": 0,
      "outputs": [
        {
          "output_type": "execute_result",
          "data": {
            "text/plain": [
              "387"
            ]
          },
          "metadata": {
            "tags": []
          },
          "execution_count": 44
        }
      ]
    },
    {
      "cell_type": "code",
      "metadata": {
        "id": "YOvlPHTdoMUJ",
        "colab_type": "code",
        "outputId": "0d539930-440f-4858-9b3d-efef5c1a153c",
        "colab": {
          "base_uri": "https://localhost:8080/",
          "height": 170
        }
      },
      "source": [
        "#Print the words whose lengths are more than 5 and has occured more than 100 times\n",
        "freqwords = [w for w in vocab1 if len(w) > 5 and dist[w] > 100]\n",
        "freqwords"
      ],
      "execution_count": 0,
      "outputs": [
        {
          "output_type": "execute_result",
          "data": {
            "text/plain": [
              "['billion',\n",
              " 'company',\n",
              " 'president',\n",
              " 'because',\n",
              " 'market',\n",
              " 'million',\n",
              " 'shares',\n",
              " 'trading',\n",
              " 'program']"
            ]
          },
          "metadata": {
            "tags": []
          },
          "execution_count": 45
        }
      ]
    },
    {
      "cell_type": "code",
      "metadata": {
        "id": "632n6xMcqJrm",
        "colab_type": "code",
        "outputId": "c9845c4f-824b-4b22-8d0a-3a7c2118cf8b",
        "colab": {
          "base_uri": "https://localhost:8080/",
          "height": 34
        }
      },
      "source": [
        "#Different form of the same \"words\"\n",
        "input1 = 'Lists listed lists listing listings'\n",
        "words1 = input1.lower().split()\n",
        "words1"
      ],
      "execution_count": 0,
      "outputs": [
        {
          "output_type": "execute_result",
          "data": {
            "text/plain": [
              "['lists', 'listed', 'lists', 'listing', 'listings']"
            ]
          },
          "metadata": {
            "tags": []
          },
          "execution_count": 46
        }
      ]
    },
    {
      "cell_type": "code",
      "metadata": {
        "id": "rFGYhXioqshg",
        "colab_type": "code",
        "outputId": "bffdf04d-6bf4-4a37-f2a7-7eb7ae08b54d",
        "colab": {
          "base_uri": "https://localhost:8080/",
          "height": 34
        }
      },
      "source": [
        "porter = nltk.PorterStemmer()\n",
        "[porter.stem(t) for t in words1]"
      ],
      "execution_count": 0,
      "outputs": [
        {
          "output_type": "execute_result",
          "data": {
            "text/plain": [
              "['list', 'list', 'list', 'list', 'list']"
            ]
          },
          "metadata": {
            "tags": []
          },
          "execution_count": 47
        }
      ]
    },
    {
      "cell_type": "code",
      "metadata": {
        "id": "RL1xNrPNrFcq",
        "colab_type": "code",
        "outputId": "daa5d3f4-3487-4933-f0c0-ed1f86add94b",
        "colab": {
          "base_uri": "https://localhost:8080/",
          "height": 34
        }
      },
      "source": [
        "#Tokenization\n",
        "text11 = \"Children shouldn\\'t drink a sugary drink before bed.\"\n",
        "text11.split()"
      ],
      "execution_count": 0,
      "outputs": [
        {
          "output_type": "execute_result",
          "data": {
            "text/plain": [
              "['Children', \"shouldn't\", 'drink', 'a', 'sugary', 'drink', 'before', 'bed.']"
            ]
          },
          "metadata": {
            "tags": []
          },
          "execution_count": 48
        }
      ]
    },
    {
      "cell_type": "code",
      "metadata": {
        "id": "jZkonV_4r3yR",
        "colab_type": "code",
        "outputId": "d653be66-06bd-41ca-da5f-db5284410dbe",
        "colab": {
          "base_uri": "https://localhost:8080/",
          "height": 187
        }
      },
      "source": [
        "nltk.word_tokenize(text11)"
      ],
      "execution_count": 0,
      "outputs": [
        {
          "output_type": "execute_result",
          "data": {
            "text/plain": [
              "['Children',\n",
              " 'should',\n",
              " \"n't\",\n",
              " 'drink',\n",
              " 'a',\n",
              " 'sugary',\n",
              " 'drink',\n",
              " 'before',\n",
              " 'bed',\n",
              " '.']"
            ]
          },
          "metadata": {
            "tags": []
          },
          "execution_count": 49
        }
      ]
    },
    {
      "cell_type": "code",
      "metadata": {
        "id": "Gtv1Ee9YsJbX",
        "colab_type": "code",
        "outputId": "ad271377-7193-43c9-c649-b98257453f8a",
        "colab": {
          "base_uri": "https://localhost:8080/",
          "height": 493
        }
      },
      "source": [
        "#Sentence Splitting\n",
        "text12 = 'This is the first sentence. A gallon of milk in the U.S. costs $2.99. Is this the third sentence? Yes, it is!'\n",
        "words = nltk.word_tokenize(text12)\n",
        "words"
      ],
      "execution_count": 0,
      "outputs": [
        {
          "output_type": "execute_result",
          "data": {
            "text/plain": [
              "['This',\n",
              " 'is',\n",
              " 'the',\n",
              " 'first',\n",
              " 'sentence',\n",
              " '.',\n",
              " 'A',\n",
              " 'gallon',\n",
              " 'of',\n",
              " 'milk',\n",
              " 'in',\n",
              " 'the',\n",
              " 'U.S.',\n",
              " 'costs',\n",
              " '$',\n",
              " '2.99',\n",
              " '.',\n",
              " 'Is',\n",
              " 'this',\n",
              " 'the',\n",
              " 'third',\n",
              " 'sentence',\n",
              " '?',\n",
              " 'Yes',\n",
              " ',',\n",
              " 'it',\n",
              " 'is',\n",
              " '!']"
            ]
          },
          "metadata": {
            "tags": []
          },
          "execution_count": 51
        }
      ]
    },
    {
      "cell_type": "code",
      "metadata": {
        "id": "FOgYcOnasf_L",
        "colab_type": "code",
        "outputId": "e431ece8-646c-49a0-d2dc-17ce25315306",
        "colab": {
          "base_uri": "https://localhost:8080/",
          "height": 34
        }
      },
      "source": [
        "len(words)"
      ],
      "execution_count": 0,
      "outputs": [
        {
          "output_type": "execute_result",
          "data": {
            "text/plain": [
              "28"
            ]
          },
          "metadata": {
            "tags": []
          },
          "execution_count": 52
        }
      ]
    },
    {
      "cell_type": "code",
      "metadata": {
        "id": "K2OQ7aKysvgc",
        "colab_type": "code",
        "outputId": "e5534f31-e29b-410b-f17d-5d05844b05c2",
        "colab": {
          "base_uri": "https://localhost:8080/",
          "height": 34
        }
      },
      "source": [
        "sentence1 = nltk.sent_tokenize(text12)\n",
        "len(sentence1)"
      ],
      "execution_count": 0,
      "outputs": [
        {
          "output_type": "execute_result",
          "data": {
            "text/plain": [
              "4"
            ]
          },
          "metadata": {
            "tags": []
          },
          "execution_count": 53
        }
      ]
    },
    {
      "cell_type": "code",
      "metadata": {
        "id": "oWiWlutMs467",
        "colab_type": "code",
        "outputId": "013e6d28-a47f-4e15-a253-d32d37d7f75b",
        "colab": {
          "base_uri": "https://localhost:8080/",
          "height": 85
        }
      },
      "source": [
        "sentence1"
      ],
      "execution_count": 0,
      "outputs": [
        {
          "output_type": "execute_result",
          "data": {
            "text/plain": [
              "['This is the first sentence.',\n",
              " 'A gallon of milk in the U.S. costs $2.99.',\n",
              " 'Is this the third sentence?',\n",
              " 'Yes, it is!']"
            ]
          },
          "metadata": {
            "tags": []
          },
          "execution_count": 54
        }
      ]
    }
  ]
}